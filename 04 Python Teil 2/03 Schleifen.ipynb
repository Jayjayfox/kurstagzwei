{
 "cells": [
  {
   "cell_type": "markdown",
   "metadata": {},
   "source": [
    "# Schleifen\n",
    "\n",
    "Schleifen erlauben es dir, dafür zu sorgen, dass bestimmte Teile vom Programm mehrfach ausgeführt werden. Das ist praktisch, wenn du z.B. eine Liste von Studierenden hast und dafür sorgen möchtest, dass z. B. ein print() - Befehl einmal für jeden Studierenden ausgeführt wird. \n",
    "\n",
    "Eine Schleife erlaubt dir, sowas in recht wenig Code auszudrücken!"
   ]
  },
  {
   "cell_type": "markdown",
   "metadata": {},
   "source": [
    "## Die while-Schleife\n",
    "Ein Code-Block innerhalb einer if-elif-else-Struktur wird jeweils nur einmal ausgeführt. Bei Schleifen wie der **while-Schleife** wird ein Code-Block so lange mehrmals hintereinander ausgeführt, bis eine Abbruchbedingung erfüllt ist."
   ]
  },
  {
   "cell_type": "code",
   "execution_count": 3,
   "metadata": {},
   "outputs": [
    {
     "name": "stdout",
     "output_type": "stream",
     "text": [
      "0\n",
      "1\n",
      "2\n",
      "3\n",
      "4\n",
      "5\n",
      "6\n",
      "7\n",
      "8\n",
      "9\n",
      "Hallo Welt\n"
     ]
    }
   ],
   "source": [
    "counter = 0\n",
    "\n",
    "while counter < 10:\n",
    "    print(counter)\n",
    "    counter = counter + 1\n",
    "    \n",
    "print(\"Hallo Welt\")"
   ]
  },
  {
   "cell_type": "markdown",
   "metadata": {},
   "source": [
    "Innerhalb einer Schleife **muss** sich **unbedingt** ein Zustand in jedem Schritt verändern, damit die Schleifenbedingung nicht dauerhaft erfüllt ist, und das Programm die Schleife auch wieder verlassen kann:"
   ]
  },
  {
   "cell_type": "markdown",
   "metadata": {},
   "source": [
    "## Übung \n",
    "\n",
    "Repariere die kaputte schleife."
   ]
  },
  {
   "cell_type": "code",
   "execution_count": 8,
   "metadata": {},
   "outputs": [
    {
     "name": "stdout",
     "output_type": "stream",
     "text": [
      "Moritz\n",
      "Klara\n",
      "Monika\n",
      "Max\n"
     ]
    }
   ],
   "source": [
    "students = [\"Moritz\", \"Klara\", \"Monika\", \"Max\"]\n",
    "i = 0\n",
    "\n",
    "while i < len(students):\n",
    "    print(students[i])\n",
    "    i  = i + 1"
   ]
  },
  {
   "cell_type": "markdown",
   "metadata": {},
   "source": [
    "## Die for-Schleife\n",
    "Neben der while-Schleife, die wir schon kennen gelernt haben, gibt es noch die **for-Schleife**. Hier durchläuft eine Schleifenvariable nacheinander die Werte in einer ebenfalls anzugebenden Sequenz.\n",
    "\n",
    "Bei dieser Sequenz kann es sich z. B. um eine Liste handeln."
   ]
  },
  {
   "cell_type": "code",
   "execution_count": 3,
   "metadata": {},
   "outputs": [
    {
     "name": "stdout",
     "output_type": "stream",
     "text": [
      "5\n",
      "8\n",
      "10\n"
     ]
    }
   ],
   "source": [
    "liste = [5, 8, 10]\n",
    "for i in liste: #i = ein Element in der Liste iterator (fortlaufend)\n",
    "    print(i)"
   ]
  },
  {
   "cell_type": "code",
   "execution_count": 5,
   "metadata": {},
   "outputs": [
    {
     "name": "stdout",
     "output_type": "stream",
     "text": [
      "Max\n",
      "Moritz\n",
      "Monika\n"
     ]
    }
   ],
   "source": [
    "liste = [\"Max\", \"Moritz\", \"Monika\"]\n",
    "for i in liste:\n",
    "    print(i)\n",
    "# das ganze \"logischer benannt\" unten"
   ]
  },
  {
   "cell_type": "code",
   "execution_count": 9,
   "metadata": {},
   "outputs": [
    {
     "name": "stdout",
     "output_type": "stream",
     "text": [
      "Max\n",
      "Moritz\n",
      "Monika\n"
     ]
    }
   ],
   "source": [
    "students = [\"Max\", \"Moritz\", \"Monika\"]\n",
    "for student in students:\n",
    "    print(student)\n",
    "# das ganze \"technischer\" oben"
   ]
  },
  {
   "cell_type": "markdown",
   "metadata": {},
   "source": [
    "Wir sehen, dass unsere Schleifenvariable i nacheinander und automatisch die Werte aus der Liste annimmt. "
   ]
  },
  {
   "cell_type": "markdown",
   "metadata": {},
   "source": [
    "### Das range-Objekt\n",
    "Als Sequenz für eine for-Schleife braucht man nicht zwangsläufig eine Liste. Häufig greift man stattdessen auf ein **range**-Objekt zurück:"
   ]
  },
  {
   "cell_type": "code",
   "execution_count": 10,
   "metadata": {},
   "outputs": [
    {
     "name": "stdout",
     "output_type": "stream",
     "text": [
      "range(0, 100)\n"
     ]
    }
   ],
   "source": [
    "print(range(0,10))"
   ]
  },
  {
   "cell_type": "code",
   "execution_count": 13,
   "metadata": {},
   "outputs": [
    {
     "name": "stdout",
     "output_type": "stream",
     "text": [
      "Hello world\n",
      "Hello world\n",
      "Hello world\n",
      "Hello world\n",
      "Hello world\n",
      "Hello world\n",
      "Hello world\n",
      "Hello world\n",
      "Hello world\n",
      "Hello world\n"
     ]
    }
   ],
   "source": [
    "for i in range(0, 10):\n",
    "    print(\"Hello world\")\n",
    "\n",
    "# schreibt 10 Mal Hello World. Kannst nachzählen."
   ]
  },
  {
   "cell_type": "markdown",
   "metadata": {},
   "source": [
    "## Übung \n",
    "Summiere alle Zahlen von 1 bis 100 mit hilfe einer for schleife und eines range objektes. "
   ]
  },
  {
   "cell_type": "code",
   "execution_count": 32,
   "metadata": {},
   "outputs": [
    {
     "name": "stdout",
     "output_type": "stream",
     "text": [
      "0\n"
     ]
    }
   ],
   "source": [
    "# Hier summieren wir alle Zahlen von 1 bis 10 mithilfe einer for-Schleife und eines range-Objektes auf\n",
    "sum = 0\n",
    "\n",
    "\n",
    "print(sum)"
   ]
  },
  {
   "cell_type": "code",
   "execution_count": 42,
   "metadata": {},
   "outputs": [
    {
     "name": "stdout",
     "output_type": "stream",
     "text": [
      "55\n"
     ]
    }
   ],
   "source": [
    "sum = 0\n",
    "for zahl in range(0, 10): #Range: die letzte Zahl nimmt er nicht, drum unten (zahl+1), option wäre: range(0,11)\n",
    "    sum = sum + (zahl+1)\n",
    "print(sum)\n",
    "        "
   ]
  },
  {
   "cell_type": "code",
   "execution_count": 48,
   "metadata": {},
   "outputs": [
    {
     "name": "stdout",
     "output_type": "stream",
     "text": [
      "Die Zahl i ist: 0\n",
      "Die aktuelle Summe ist: 1\n",
      "Die Zahl i ist: 1\n",
      "Die aktuelle Summe ist: 2\n",
      "Die Zahl i ist: 2\n",
      "Die aktuelle Summe ist: 3\n",
      "Die Zahl i ist: 3\n",
      "Die aktuelle Summe ist: 4\n",
      "Die Zahl i ist: 4\n",
      "Die aktuelle Summe ist: 5\n",
      "Die Zahl i ist: 5\n",
      "Die aktuelle Summe ist: 6\n",
      "Die Zahl i ist: 6\n",
      "Die aktuelle Summe ist: 7\n",
      "Die Zahl i ist: 7\n",
      "Die aktuelle Summe ist: 8\n",
      "Die Zahl i ist: 8\n",
      "Die aktuelle Summe ist: 9\n",
      "Die Zahl i ist: 9\n",
      "Die aktuelle Summe ist: 10\n",
      "Die Zahl i ist: 10\n",
      "Die aktuelle Summe ist: 11\n",
      "Die Zahl i ist: 11\n",
      "Die aktuelle Summe ist: 12\n",
      "Die Zahl i ist: 12\n",
      "Die aktuelle Summe ist: 13\n",
      "Die Zahl i ist: 13\n",
      "Die aktuelle Summe ist: 14\n",
      "Die Zahl i ist: 14\n",
      "Die aktuelle Summe ist: 15\n",
      "Die Zahl i ist: 15\n",
      "Die aktuelle Summe ist: 16\n",
      "Die Zahl i ist: 16\n",
      "Die aktuelle Summe ist: 17\n",
      "Die Zahl i ist: 17\n",
      "Die aktuelle Summe ist: 18\n",
      "Die Zahl i ist: 18\n",
      "Die aktuelle Summe ist: 19\n",
      "Die Zahl i ist: 19\n",
      "Die aktuelle Summe ist: 20\n",
      "Die Zahl i ist: 20\n",
      "Die aktuelle Summe ist: 21\n",
      "Die Zahl i ist: 21\n",
      "Die aktuelle Summe ist: 22\n",
      "Die Zahl i ist: 22\n",
      "Die aktuelle Summe ist: 23\n",
      "Die Zahl i ist: 23\n",
      "Die aktuelle Summe ist: 24\n",
      "Die Zahl i ist: 24\n",
      "Die aktuelle Summe ist: 25\n",
      "Die Zahl i ist: 25\n",
      "Die aktuelle Summe ist: 26\n",
      "Die Zahl i ist: 26\n",
      "Die aktuelle Summe ist: 27\n",
      "Die Zahl i ist: 27\n",
      "Die aktuelle Summe ist: 28\n",
      "Die Zahl i ist: 28\n",
      "Die aktuelle Summe ist: 29\n",
      "Die Zahl i ist: 29\n",
      "Die aktuelle Summe ist: 30\n",
      "Die Zahl i ist: 30\n",
      "Die aktuelle Summe ist: 31\n",
      "Die Zahl i ist: 31\n",
      "Die aktuelle Summe ist: 32\n",
      "Die Zahl i ist: 32\n",
      "Die aktuelle Summe ist: 33\n",
      "Die Zahl i ist: 33\n",
      "Die aktuelle Summe ist: 34\n",
      "Die Zahl i ist: 34\n",
      "Die aktuelle Summe ist: 35\n",
      "Die Zahl i ist: 35\n",
      "Die aktuelle Summe ist: 36\n",
      "Die Zahl i ist: 36\n",
      "Die aktuelle Summe ist: 37\n",
      "Die Zahl i ist: 37\n",
      "Die aktuelle Summe ist: 38\n",
      "Die Zahl i ist: 38\n",
      "Die aktuelle Summe ist: 39\n",
      "Die Zahl i ist: 39\n",
      "Die aktuelle Summe ist: 40\n",
      "Die Zahl i ist: 40\n",
      "Die aktuelle Summe ist: 41\n",
      "Die Zahl i ist: 41\n",
      "Die aktuelle Summe ist: 42\n",
      "Die Zahl i ist: 42\n",
      "Die aktuelle Summe ist: 43\n",
      "Die Zahl i ist: 43\n",
      "Die aktuelle Summe ist: 44\n",
      "Die Zahl i ist: 44\n",
      "Die aktuelle Summe ist: 45\n",
      "Die Zahl i ist: 45\n",
      "Die aktuelle Summe ist: 46\n",
      "Die Zahl i ist: 46\n",
      "Die aktuelle Summe ist: 47\n",
      "Die Zahl i ist: 47\n",
      "Die aktuelle Summe ist: 48\n",
      "Die Zahl i ist: 48\n",
      "Die aktuelle Summe ist: 49\n",
      "Die Zahl i ist: 49\n",
      "Die aktuelle Summe ist: 50\n",
      "Die Zahl i ist: 50\n",
      "Die aktuelle Summe ist: 51\n",
      "Die Zahl i ist: 51\n",
      "Die aktuelle Summe ist: 52\n",
      "Die Zahl i ist: 52\n",
      "Die aktuelle Summe ist: 53\n",
      "Die Zahl i ist: 53\n",
      "Die aktuelle Summe ist: 54\n",
      "Die Zahl i ist: 54\n",
      "Die aktuelle Summe ist: 55\n",
      "Die Zahl i ist: 55\n",
      "Die aktuelle Summe ist: 56\n",
      "Die Zahl i ist: 56\n",
      "Die aktuelle Summe ist: 57\n",
      "Die Zahl i ist: 57\n",
      "Die aktuelle Summe ist: 58\n",
      "Die Zahl i ist: 58\n",
      "Die aktuelle Summe ist: 59\n",
      "Die Zahl i ist: 59\n",
      "Die aktuelle Summe ist: 60\n",
      "Die Zahl i ist: 60\n",
      "Die aktuelle Summe ist: 61\n",
      "Die Zahl i ist: 61\n",
      "Die aktuelle Summe ist: 62\n",
      "Die Zahl i ist: 62\n",
      "Die aktuelle Summe ist: 63\n",
      "Die Zahl i ist: 63\n",
      "Die aktuelle Summe ist: 64\n",
      "Die Zahl i ist: 64\n",
      "Die aktuelle Summe ist: 65\n",
      "Die Zahl i ist: 65\n",
      "Die aktuelle Summe ist: 66\n",
      "Die Zahl i ist: 66\n",
      "Die aktuelle Summe ist: 67\n",
      "Die Zahl i ist: 67\n",
      "Die aktuelle Summe ist: 68\n",
      "Die Zahl i ist: 68\n",
      "Die aktuelle Summe ist: 69\n",
      "Die Zahl i ist: 69\n",
      "Die aktuelle Summe ist: 70\n",
      "Die Zahl i ist: 70\n",
      "Die aktuelle Summe ist: 71\n",
      "Die Zahl i ist: 71\n",
      "Die aktuelle Summe ist: 72\n",
      "Die Zahl i ist: 72\n",
      "Die aktuelle Summe ist: 73\n",
      "Die Zahl i ist: 73\n",
      "Die aktuelle Summe ist: 74\n",
      "Die Zahl i ist: 74\n",
      "Die aktuelle Summe ist: 75\n",
      "Die Zahl i ist: 75\n",
      "Die aktuelle Summe ist: 76\n",
      "Die Zahl i ist: 76\n",
      "Die aktuelle Summe ist: 77\n",
      "Die Zahl i ist: 77\n",
      "Die aktuelle Summe ist: 78\n",
      "Die Zahl i ist: 78\n",
      "Die aktuelle Summe ist: 79\n",
      "Die Zahl i ist: 79\n",
      "Die aktuelle Summe ist: 80\n",
      "Die Zahl i ist: 80\n",
      "Die aktuelle Summe ist: 81\n",
      "Die Zahl i ist: 81\n",
      "Die aktuelle Summe ist: 82\n",
      "Die Zahl i ist: 82\n",
      "Die aktuelle Summe ist: 83\n",
      "Die Zahl i ist: 83\n",
      "Die aktuelle Summe ist: 84\n",
      "Die Zahl i ist: 84\n",
      "Die aktuelle Summe ist: 85\n",
      "Die Zahl i ist: 85\n",
      "Die aktuelle Summe ist: 86\n",
      "Die Zahl i ist: 86\n",
      "Die aktuelle Summe ist: 87\n",
      "Die Zahl i ist: 87\n",
      "Die aktuelle Summe ist: 88\n",
      "Die Zahl i ist: 88\n",
      "Die aktuelle Summe ist: 89\n",
      "Die Zahl i ist: 89\n",
      "Die aktuelle Summe ist: 90\n",
      "Die Zahl i ist: 90\n",
      "Die aktuelle Summe ist: 91\n",
      "Die Zahl i ist: 91\n",
      "Die aktuelle Summe ist: 92\n",
      "Die Zahl i ist: 92\n",
      "Die aktuelle Summe ist: 93\n",
      "Die Zahl i ist: 93\n",
      "Die aktuelle Summe ist: 94\n",
      "Die Zahl i ist: 94\n",
      "Die aktuelle Summe ist: 95\n",
      "Die Zahl i ist: 95\n",
      "Die aktuelle Summe ist: 96\n",
      "Die Zahl i ist: 96\n",
      "Die aktuelle Summe ist: 97\n",
      "Die Zahl i ist: 97\n",
      "Die aktuelle Summe ist: 98\n",
      "Die Zahl i ist: 98\n",
      "Die aktuelle Summe ist: 99\n",
      "Die Zahl i ist: 99\n",
      "Die aktuelle Summe ist: 100\n",
      "Die Zahl i ist: 100\n",
      "Die aktuelle Summe ist: 101\n",
      "Das Ergebnis ist: 101\n"
     ]
    }
   ],
   "source": [
    "sum = 0\n",
    "for i in range(0,101):\n",
    "    print(\"Die Zahl i ist: \" + str(i))\n",
    "    sum = sum+1\n",
    "    print(\"Die aktuelle Summe ist: \" + str(sum))\n",
    "    \n",
    "print(\"Das Ergebnis ist: \" + str(sum))"
   ]
  },
  {
   "cell_type": "markdown",
   "metadata": {},
   "source": [
    "## Continue & Break\n",
    "\n",
    "Wir können während eines Schleifendurchlaufs den aktuellen Durchlauf vorzeitig abbrechen und unmittelbar mit dem nächsten Schleifendurchlauf fortfahren (**continue**) oder auch die gesamte Schleife abbrechen (**break**).\n"
   ]
  },
  {
   "cell_type": "markdown",
   "metadata": {},
   "source": [
    "### Continue\n",
    "Wir brauchen einfach das Wort **continue** in eine Schleife zu schreiben, wenn an einer bestimmten Stelle zum neuen Schleifendurchlauf gesprungen werden soll:"
   ]
  },
  {
   "cell_type": "code",
   "execution_count": 5,
   "metadata": {},
   "outputs": [
    {
     "name": "stdout",
     "output_type": "stream",
     "text": [
      "0\n",
      "1\n",
      "2\n",
      "4\n",
      "5\n",
      "6\n",
      "7\n",
      "8\n",
      "9\n"
     ]
    }
   ],
   "source": [
    "for i in range(0, 10):\n",
    "    if i == 3:\n",
    "        continue #lässt den print-Teil aus und fängt wieder oben an.\n",
    "    print(i)"
   ]
  },
  {
   "cell_type": "code",
   "execution_count": 55,
   "metadata": {},
   "outputs": [
    {
     "name": "stdout",
     "output_type": "stream",
     "text": [
      "0\n",
      "1\n",
      "2\n",
      "4\n",
      "5\n",
      "6\n",
      "7\n",
      "9\n"
     ]
    }
   ],
   "source": [
    "for i in range(0, 10):\n",
    "    if i == 3 or i == 8:\n",
    "        continue\n",
    "    print(i)"
   ]
  },
  {
   "cell_type": "markdown",
   "metadata": {},
   "source": [
    "In dem obigen Beispiel wird für den Wert 3 der print()-Befehl übersprungen."
   ]
  },
  {
   "cell_type": "markdown",
   "metadata": {},
   "source": [
    "### Break\n",
    "Auch **break** schreiben wir einfach in eine Zeile, und schon wird die ganze Schleife abgebrochen, wenn das Programm diese Stelle erreicht:\n"
   ]
  },
  {
   "cell_type": "code",
   "execution_count": 4,
   "metadata": {},
   "outputs": [
    {
     "name": "stdout",
     "output_type": "stream",
     "text": [
      "0\n",
      "1\n",
      "2\n"
     ]
    }
   ],
   "source": [
    "for i in range(0, 10):\n",
    "    if i == 3:\n",
    "        break\n",
    "    print(i)"
   ]
  },
  {
   "cell_type": "code",
   "execution_count": null,
   "metadata": {},
   "outputs": [],
   "source": [
    "for i in range(0, 10):\n",
    "    if i == 3 or i == 8: #i == 8 ist schwachsinnig, weil dahin kommt er gar nie, er hört bei 3 auf.\n",
    "        break\n",
    "    print(i)"
   ]
  },
  {
   "cell_type": "markdown",
   "metadata": {},
   "source": [
    "## Übung\n",
    "\n",
    "Schreibe eine Schleife die alle elemente einer Liste zusammenzählt und wenn die summe größer als 10 ist hält sie an, und gibt die summe aus. "
   ]
  },
  {
   "cell_type": "code",
   "execution_count": 3,
   "metadata": {},
   "outputs": [],
   "source": [
    "liste = [4, 6, 7, 2, 4, 6, 7]\n",
    "\n",
    "sum = 0\n",
    "\n",
    "# Hier muss dein code hin\n",
    "\n",
    "\n"
   ]
  },
  {
   "cell_type": "code",
   "execution_count": 83,
   "metadata": {},
   "outputs": [
    {
     "name": "stdout",
     "output_type": "stream",
     "text": [
      "17\n"
     ]
    }
   ],
   "source": [
    "liste = [4, 6, 7, 2, 4, 6, 7]\n",
    "sum = 0\n",
    "\n",
    "for zahl in liste:\n",
    "    sum = sum+zahl #nicht sum+1, weil ich will die tatsächlichen Werte zusammenzählen\n",
    "    if sum > 10:\n",
    "        break\n",
    "print(sum)"
   ]
  },
  {
   "cell_type": "code",
   "execution_count": 7,
   "metadata": {},
   "outputs": [
    {
     "name": "stdout",
     "output_type": "stream",
     "text": [
      "4\n",
      "4\n",
      "6\n",
      "10\n",
      "7\n",
      "17\n",
      "Summe ist 17\n"
     ]
    }
   ],
   "source": [
    "liste = [4, 6, 7, 2, 4, 6, 7]\n",
    "\n",
    "sum = 0\n",
    "\n",
    "for zahl in liste:\n",
    "    print(zahl)\n",
    "    sum = sum + zahl\n",
    "    print(sum)\n",
    "    if sum > 10:\n",
    "        break\n",
    "\n",
    "print(\"Summe ist \" + str(sum))"
   ]
  },
  {
   "cell_type": "markdown",
   "metadata": {},
   "source": [
    "## Übung 2\n",
    "\n",
    "Wir bauen einen Trump Twitter generator. \n",
    "\n"
   ]
  },
  {
   "cell_type": "markdown",
   "metadata": {},
   "source": [
    "Wir können in Python mit der **randint()**-Funktion zufällige Zahlen generieren. Doch um auf diese Funktion zurückzugreifen, müssen wir erst das random-Modul einbinden. :-)"
   ]
  },
  {
   "cell_type": "code",
   "execution_count": 2,
   "metadata": {},
   "outputs": [],
   "source": [
    "import random"
   ]
  },
  {
   "cell_type": "markdown",
   "metadata": {},
   "source": [
    "randint liefert zufällig Ganzzahlen aus einem Intervall, das wir der Funktion mitteilen müssen. Die beiden Grenzen und alle ganzen Zahlen innerhalb des Intervalls können dabei Werte von randint sein."
   ]
  },
  {
   "cell_type": "code",
   "execution_count": 5,
   "metadata": {},
   "outputs": [
    {
     "name": "stdout",
     "output_type": "stream",
     "text": [
      "3\n"
     ]
    }
   ],
   "source": [
    "print(random.randint(0, 4))"
   ]
  },
  {
   "cell_type": "code",
   "execution_count": 90,
   "metadata": {},
   "outputs": [
    {
     "name": "stdout",
     "output_type": "stream",
     "text": [
      "4\n"
     ]
    }
   ],
   "source": [
    "print(random.randint(0, 4))"
   ]
  },
  {
   "cell_type": "markdown",
   "metadata": {},
   "source": [
    "### Listen mit den Begriffen für unsere Tweets anlegen\n",
    "\n",
    "Hier haben wir einfach mal ein paar häufig auftretende Begriffe aus den Tweets kopiert ;-)"
   ]
  },
  {
   "cell_type": "code",
   "execution_count": 60,
   "metadata": {
    "collapsed": true
   },
   "outputs": [],
   "source": [
    "part1 = [\"Putin,\", \"Hillary,\", \"Obama\", \"Fake News,\", \"Mexico,\", \"Arnold Schwarzenegger\", \"The Democrats\"]\n",
    "part2 = [\"no talent,\", \"on the way down,\", \"really poor numbers,\", \"nasty tone,\", \"looking like a fool,\", \"bad hombre,\"]\n",
    "part3 = [\"got destroyed by my ratings.\", \"rigged the election.\", \"had a much smaller crowd.\", \"will pay for the wall.\"]\n",
    "part4 = [\"So sad\", \"Apologize\", \"So true\", \"Media won't report\", \"Big trouble\", \"Fantastic job\", \"Stay tuned\"]"
   ]
  },
  {
   "cell_type": "code",
   "execution_count": 61,
   "metadata": {
    "scrolled": true
   },
   "outputs": [
    {
     "name": "stdout",
     "output_type": "stream",
     "text": [
      "[['Putin,', 'Hillary,', 'Obama', 'Fake News,', 'Mexico,', 'Arnold Schwarzenegger', 'The Democrats'], ['no talent,', 'on the way down,', 'really poor numbers,', 'nasty tone,', 'looking like a fool,', 'bad hombre,'], ['got destroyed by my ratings.', 'rigged the election.', 'had a much smaller crowd.', 'will pay for the wall.'], ['So sad', 'Apologize', 'So true', \"Media won't report\", 'Big trouble', 'Fantastic job', 'Stay tuned']]\n"
     ]
    }
   ],
   "source": [
    "# Wir können auch Listen von Listen erstellen!\n",
    "best_words = [part1, part2, part3, part4]\n",
    "print(best_words)"
   ]
  },
  {
   "cell_type": "markdown",
   "metadata": {},
   "source": [
    "### Den Tweet-Generator bauen\n",
    " \n",
    "- Nimm jeweils ein zufälliges wort von jeder part1..4 liste. \n",
    "- Füge es zu unserem satz hinzu. \n",
    "- Wenn du fertig bist gib unseren satz als string aus. \n",
    "- z.B. Hillary, nasty tone, had a much smaller crowd. Media won't report!"
   ]
  },
  {
   "cell_type": "code",
   "execution_count": 5,
   "metadata": {},
   "outputs": [],
   "source": [
    "sentence = []\n",
    "\n",
    "### Hier muss dein code hin\n"
   ]
  }
 ],
 "metadata": {
  "kernelspec": {
   "display_name": "Python 3",
   "language": "python",
   "name": "python3"
  },
  "language_info": {
   "codemirror_mode": {
    "name": "ipython",
    "version": 3
   },
   "file_extension": ".py",
   "mimetype": "text/x-python",
   "name": "python",
   "nbconvert_exporter": "python",
   "pygments_lexer": "ipython3",
   "version": "3.7.0"
  }
 },
 "nbformat": 4,
 "nbformat_minor": 2
}
